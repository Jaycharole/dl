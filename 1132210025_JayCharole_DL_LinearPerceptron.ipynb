{
 "cells": [
  {
   "cell_type": "markdown",
   "metadata": {},
   "source": [
    "<center>\n",
    "<b>Name: Jay Ganesh Charole</b> <br>\n",
    "<b>PRN: 1132210025</b><br><br>\n",
    "<b> DEEP LEARNING ASSIGNMENT</b><br>\n",
    "<b> Implementation of Linear Perceptron </b>\n",
    "</center>"
   ]
  },
  {
   "cell_type": "code",
   "execution_count": 1,
   "metadata": {
    "executionInfo": {
     "elapsed": 1604,
     "status": "ok",
     "timestamp": 1657821533018,
     "user": {
      "displayName": "Atharva Ghodke",
      "userId": "07329815708888979708"
     },
     "user_tz": -330
    },
    "id": "nmf1zuA1mnkg"
   },
   "outputs": [],
   "source": [
    "import pandas as pd\n",
    "import numpy as np"
   ]
  },
  {
   "cell_type": "code",
   "execution_count": 2,
   "metadata": {},
   "outputs": [],
   "source": [
    "tv = pd.read_csv(\"television_exposure.csv\")"
   ]
  },
  {
   "cell_type": "code",
   "execution_count": 3,
   "metadata": {},
   "outputs": [
    {
     "data": {
      "text/html": [
       "<div>\n",
       "<style scoped>\n",
       "    .dataframe tbody tr th:only-of-type {\n",
       "        vertical-align: middle;\n",
       "    }\n",
       "\n",
       "    .dataframe tbody tr th {\n",
       "        vertical-align: top;\n",
       "    }\n",
       "\n",
       "    .dataframe thead th {\n",
       "        text-align: right;\n",
       "    }\n",
       "</style>\n",
       "<table border=\"1\" class=\"dataframe\">\n",
       "  <thead>\n",
       "    <tr style=\"text-align: right;\">\n",
       "      <th></th>\n",
       "      <th>Television Exposure</th>\n",
       "      <th>Reading</th>\n",
       "      <th>Needs Spectacles</th>\n",
       "    </tr>\n",
       "  </thead>\n",
       "  <tbody>\n",
       "    <tr>\n",
       "      <th>0</th>\n",
       "      <td>6.0</td>\n",
       "      <td>4</td>\n",
       "      <td>Yes</td>\n",
       "    </tr>\n",
       "    <tr>\n",
       "      <th>1</th>\n",
       "      <td>6.0</td>\n",
       "      <td>2</td>\n",
       "      <td>No</td>\n",
       "    </tr>\n",
       "    <tr>\n",
       "      <th>2</th>\n",
       "      <td>4.0</td>\n",
       "      <td>3</td>\n",
       "      <td>No</td>\n",
       "    </tr>\n",
       "    <tr>\n",
       "      <th>3</th>\n",
       "      <td>4.5</td>\n",
       "      <td>4</td>\n",
       "      <td>Yes</td>\n",
       "    </tr>\n",
       "    <tr>\n",
       "      <th>4</th>\n",
       "      <td>3.0</td>\n",
       "      <td>8</td>\n",
       "      <td>Yes</td>\n",
       "    </tr>\n",
       "    <tr>\n",
       "      <th>5</th>\n",
       "      <td>2.0</td>\n",
       "      <td>2</td>\n",
       "      <td>No</td>\n",
       "    </tr>\n",
       "    <tr>\n",
       "      <th>6</th>\n",
       "      <td>5.0</td>\n",
       "      <td>1</td>\n",
       "      <td>No</td>\n",
       "    </tr>\n",
       "  </tbody>\n",
       "</table>\n",
       "</div>"
      ],
      "text/plain": [
       "   Television Exposure  Reading Needs Spectacles\n",
       "0                  6.0        4              Yes\n",
       "1                  6.0        2               No\n",
       "2                  4.0        3               No\n",
       "3                  4.5        4              Yes\n",
       "4                  3.0        8              Yes\n",
       "5                  2.0        2               No\n",
       "6                  5.0        1               No"
      ]
     },
     "execution_count": 3,
     "metadata": {},
     "output_type": "execute_result"
    }
   ],
   "source": [
    "tv"
   ]
  },
  {
   "cell_type": "code",
   "execution_count": 4,
   "metadata": {
    "executionInfo": {
     "elapsed": 2,
     "status": "ok",
     "timestamp": 1657821558951,
     "user": {
      "displayName": "Atharva Ghodke",
      "userId": "07329815708888979708"
     },
     "user_tz": -330
    },
    "id": "5o3zdhq0tk9c"
   },
   "outputs": [],
   "source": [
    "tv['Needs Spectacles'] = [1 if i == 'Yes' else 0 for i in tv['Needs Spectacles']]"
   ]
  },
  {
   "cell_type": "code",
   "execution_count": 5,
   "metadata": {
    "executionInfo": {
     "elapsed": 368,
     "status": "ok",
     "timestamp": 1657821561402,
     "user": {
      "displayName": "Atharva Ghodke",
      "userId": "07329815708888979708"
     },
     "user_tz": -330
    },
    "id": "76XnkZlQxIpR"
   },
   "outputs": [],
   "source": [
    "X = tv.iloc[:,:2].values\n",
    "y = tv.iloc[:,2:].values"
   ]
  },
  {
   "cell_type": "code",
   "execution_count": 6,
   "metadata": {
    "executionInfo": {
     "elapsed": 369,
     "status": "ok",
     "timestamp": 1657821573617,
     "user": {
      "displayName": "Atharva Ghodke",
      "userId": "07329815708888979708"
     },
     "user_tz": -330
    },
    "id": "8le_vl-0n7Rv"
   },
   "outputs": [],
   "source": [
    "class Perceptron(object):\n",
    "  def __init__(self,learning_rate = 0.01, n_iter = 100, random_state = 1):\n",
    "    self.learning_rate = learning_rate\n",
    "    self.n_iter = n_iter\n",
    "    self.random_state = random_state\n",
    "\n",
    "  def step_algo(self,x):\n",
    "    return np.where(self.perceptronModel(x)>=15,1,0)\n",
    "\n",
    "  def perceptronModel(self,x):\n",
    "    v = np.dot(self.w[1:],x) + self.w[0]\n",
    "    return v\n",
    "  \n",
    "  def fit(self,X,y):\n",
    "    rand = np.random.RandomState(self.random_state)\n",
    "    self.w = rand.normal(loc = 0.0, scale = 0.1, size = 1 + X.shape[1])\n",
    "    for i in range(self.n_iter):\n",
    "      for X,target in zip(X,y):\n",
    "        update = self.learning_rate * (target - self.step_algo(X))\n",
    "        self.w[1:] += update * X\n",
    "        self.w[0] += update \n",
    "      return self"
   ]
  },
  {
   "cell_type": "code",
   "execution_count": 7,
   "metadata": {
    "executionInfo": {
     "elapsed": 343,
     "status": "ok",
     "timestamp": 1657821576638,
     "user": {
      "displayName": "Atharva Ghodke",
      "userId": "07329815708888979708"
     },
     "user_tz": -330
    },
    "id": "GAalFL-FvuLy"
   },
   "outputs": [],
   "source": [
    "per = Perceptron(learning_rate=0.5, n_iter=100, random_state=1)\n",
    "d = per.fit(X, y)"
   ]
  },
  {
   "cell_type": "code",
   "execution_count": 8,
   "metadata": {
    "colab": {
     "base_uri": "https://localhost:8080/"
    },
    "executionInfo": {
     "elapsed": 407,
     "status": "ok",
     "timestamp": 1657821625736,
     "user": {
      "displayName": "Atharva Ghodke",
      "userId": "07329815708888979708"
     },
     "user_tz": -330
    },
    "id": "XCIDXwrZ5D8w",
    "outputId": "335d4bc1-9da3-4e02-b189-f0437765069f"
   },
   "outputs": [
    {
     "data": {
      "text/plain": [
       "array(1)"
      ]
     },
     "execution_count": 8,
     "metadata": {},
     "output_type": "execute_result"
    }
   ],
   "source": [
    "d.step_algo([3,4])"
   ]
  }
 ],
 "metadata": {
  "colab": {
   "authorship_tag": "ABX9TyONipmPs5l0OYL2S9aDMleS",
   "collapsed_sections": [],
   "name": "Perceptron-2.ipynb",
   "provenance": []
  },
  "kernelspec": {
   "display_name": "Python 3 (ipykernel)",
   "language": "python",
   "name": "python3"
  },
  "language_info": {
   "codemirror_mode": {
    "name": "ipython",
    "version": 3
   },
   "file_extension": ".py",
   "mimetype": "text/x-python",
   "name": "python",
   "nbconvert_exporter": "python",
   "pygments_lexer": "ipython3",
   "version": "3.9.7"
  }
 },
 "nbformat": 4,
 "nbformat_minor": 1
}
