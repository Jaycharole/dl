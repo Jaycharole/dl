{
 "cells": [
  {
   "cell_type": "markdown",
   "id": "320e2ef1",
   "metadata": {},
   "source": [
    "<center>\n",
    "<b>Name: Jay Ganesh Charole</b> <br>\n",
    "<b>PRN: 1132210025</b><br><br>\n",
    "<b> DEEP LEARNING ASSIGNMENT</b><br>\n",
    "<b> Implementation of Logic Gates using Perceptron </b>\n",
    "</center>"
   ]
  },
  {
   "cell_type": "code",
   "execution_count": 1,
   "id": "ae958365",
   "metadata": {},
   "outputs": [],
   "source": [
    "# importing Python library\n",
    "import numpy as np"
   ]
  },
  {
   "cell_type": "code",
   "execution_count": 2,
   "id": "a6dc2055",
   "metadata": {},
   "outputs": [],
   "source": [
    "# define Unit Step Function\n",
    "def unitStep(v):\n",
    "    if v >= 0:\n",
    "        return 1\n",
    "    else:\n",
    "        return 0"
   ]
  },
  {
   "cell_type": "code",
   "execution_count": 3,
   "id": "e14bc817",
   "metadata": {},
   "outputs": [],
   "source": [
    "# design Perceptron Model\n",
    "def perceptronModel(x, w, b):\n",
    "    v = np.dot(w, x) + b\n",
    "    y = unitStep(v)\n",
    "    return y"
   ]
  },
  {
   "cell_type": "code",
   "execution_count": 5,
   "id": "40fa4c86",
   "metadata": {},
   "outputs": [
    {
     "name": "stdout",
     "output_type": "stream",
     "text": [
      "NOT(1) = 0\n",
      "NOT(0) = 1\n"
     ]
    }
   ],
   "source": [
    "# NOT Logic Function\n",
    "def NOT_logicFunction(x):\n",
    "    w = -1\n",
    "    b = 0.5\n",
    "    return perceptronModel(x, w, b)\n",
    "\n",
    "# inputs for testing the Perceptron Model\n",
    "test1 = np.array(1)\n",
    "test2 = np.array(0)\n",
    "\n",
    "# printing output\n",
    "print(\"NOT({}) = {}\".format(1, NOT_logicFunction(test1)))\n",
    "print(\"NOT({}) = {}\".format(0, NOT_logicFunction(test2)))"
   ]
  },
  {
   "cell_type": "code",
   "execution_count": 7,
   "id": "5b55b667",
   "metadata": {},
   "outputs": [],
   "source": [
    "# inputs for testing the Perceptron Model\n",
    "test3 = np.array([0, 1])\n",
    "test4 = np.array([1, 1])\n",
    "test5 = np.array([0, 0])\n",
    "test6 = np.array([1, 0])"
   ]
  },
  {
   "cell_type": "code",
   "execution_count": 8,
   "id": "d7df52e3",
   "metadata": {},
   "outputs": [
    {
     "name": "stdout",
     "output_type": "stream",
     "text": [
      "AND(0, 1) = 0\n",
      "AND(1, 1) = 1\n",
      "AND(0, 0) = 0\n",
      "AND(1, 0) = 0\n"
     ]
    }
   ],
   "source": [
    "# AND Logic Function\n",
    "def AND_logicFunction(x):\n",
    "    w = np.array([1, 1])\n",
    "    b = -1.5\n",
    "    return perceptronModel(x, w, b)\n",
    "\n",
    "# printing output\n",
    "print(\"AND({}, {}) = {}\".format(0, 1, AND_logicFunction(test3)))\n",
    "print(\"AND({}, {}) = {}\".format(1, 1, AND_logicFunction(test4)))\n",
    "print(\"AND({}, {}) = {}\".format(0, 0, AND_logicFunction(test5)))\n",
    "print(\"AND({}, {}) = {}\".format(1, 0, AND_logicFunction(test6)))"
   ]
  },
  {
   "cell_type": "code",
   "execution_count": 9,
   "id": "4d4db011",
   "metadata": {},
   "outputs": [
    {
     "name": "stdout",
     "output_type": "stream",
     "text": [
      "AND(0, 1) = 1\n",
      "AND(1, 1) = 1\n",
      "AND(0, 0) = 0\n",
      "AND(1, 0) = 1\n"
     ]
    }
   ],
   "source": [
    "# OR Logic Function\n",
    "def OR_logicFunction(x):\n",
    "    w = np.array([1, 1])\n",
    "    b = -0.5\n",
    "    return perceptronModel(x, w, b)\n",
    "\n",
    "# printing output\n",
    "print(\"AND({}, {}) = {}\".format(0, 1, OR_logicFunction(test3)))\n",
    "print(\"AND({}, {}) = {}\".format(1, 1, OR_logicFunction(test4)))\n",
    "print(\"AND({}, {}) = {}\".format(0, 0, OR_logicFunction(test5)))\n",
    "print(\"AND({}, {}) = {}\".format(1, 0, OR_logicFunction(test6)))"
   ]
  }
 ],
 "metadata": {
  "kernelspec": {
   "display_name": "Python 3 (ipykernel)",
   "language": "python",
   "name": "python3"
  },
  "language_info": {
   "codemirror_mode": {
    "name": "ipython",
    "version": 3
   },
   "file_extension": ".py",
   "mimetype": "text/x-python",
   "name": "python",
   "nbconvert_exporter": "python",
   "pygments_lexer": "ipython3",
   "version": "3.9.7"
  }
 },
 "nbformat": 4,
 "nbformat_minor": 5
}
